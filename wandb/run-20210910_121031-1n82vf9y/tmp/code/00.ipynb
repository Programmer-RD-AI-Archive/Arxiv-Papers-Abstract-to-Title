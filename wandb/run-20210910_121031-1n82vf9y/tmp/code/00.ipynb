{
 "cells": [
  {
   "cell_type": "code",
   "execution_count": 1,
   "id": "620e69fc-39df-4829-a6ed-f276c69aa6c8",
   "metadata": {},
   "outputs": [],
   "source": [
    "import nltk\n",
    "from nltk.stem.porter import *\n",
    "from torch.nn import *\n",
    "from torch.optim import *\n",
    "import numpy as np\n",
    "import pandas as pd\n",
    "import torch,torchvision\n",
    "import random\n",
    "from tqdm import *\n",
    "from torch.utils.data import Dataset,DataLoader\n",
    "stemmer = PorterStemmer()"
   ]
  },
  {
   "cell_type": "code",
   "execution_count": 2,
   "id": "50a159dc-194e-45ed-ac78-9523439ba918",
   "metadata": {},
   "outputs": [],
   "source": [
    "def tokenize(sentence):\n",
    "    return nltk.word_tokenize(sentence)"
   ]
  },
  {
   "cell_type": "code",
   "execution_count": 3,
   "id": "82cd814d-2e73-4b99-bf31-70fb27e1b630",
   "metadata": {},
   "outputs": [
    {
     "data": {
      "text/plain": [
       "['$', '100']"
      ]
     },
     "execution_count": 3,
     "metadata": {},
     "output_type": "execute_result"
    }
   ],
   "source": [
    "tokenize('$100')"
   ]
  },
  {
   "cell_type": "code",
   "execution_count": 4,
   "id": "51ae6218-144e-4c84-b7d4-057df498e542",
   "metadata": {},
   "outputs": [],
   "source": [
    "def stem(word):\n",
    "    return stemmer.stem(word.lower())"
   ]
  },
  {
   "cell_type": "code",
   "execution_count": 5,
   "id": "014663a9-313f-47f1-bc75-55fef253dbf1",
   "metadata": {},
   "outputs": [
    {
     "data": {
      "text/plain": [
       "'organ'"
      ]
     },
     "execution_count": 5,
     "metadata": {},
     "output_type": "execute_result"
    }
   ],
   "source": [
    "stem('ORGANIC')"
   ]
  },
  {
   "cell_type": "code",
   "execution_count": 6,
   "id": "7fecd4dc-800b-4b9b-9cce-451776c1c2e4",
   "metadata": {},
   "outputs": [],
   "source": [
    "def bag_of_words(tokenized_words,all_words):\n",
    "    tokenized_words = [stem(w) for w in tokenized_words]\n",
    "    bag = np.zeros(len(all_words))\n",
    "    for idx,w in enumerate(all_words):\n",
    "        if w in tokenized_words:\n",
    "            bag[idx] = 1.0\n",
    "    return bag"
   ]
  },
  {
   "cell_type": "code",
   "execution_count": 7,
   "id": "0b0969c2-0dae-46ea-a82a-1544571fe735",
   "metadata": {},
   "outputs": [
    {
     "data": {
      "text/plain": [
       "array([0., 1.])"
      ]
     },
     "execution_count": 7,
     "metadata": {},
     "output_type": "execute_result"
    }
   ],
   "source": [
    "bag_of_words(['hi'],['how','hi'])"
   ]
  },
  {
   "cell_type": "code",
   "execution_count": 8,
   "id": "e8e52074-3044-4777-b0e4-39536ee9ed73",
   "metadata": {},
   "outputs": [],
   "source": [
    "data = pd.read_csv('./data.csv')"
   ]
  },
  {
   "cell_type": "code",
   "execution_count": 9,
   "id": "92736724-a9d7-435a-a014-5d3732ca553f",
   "metadata": {},
   "outputs": [],
   "source": [
    "X = data['Abstract']\n",
    "y = data['Title']"
   ]
  },
  {
   "cell_type": "code",
   "execution_count": 10,
   "id": "cd891ab4-77dc-4b8d-a555-ed5732c73e8d",
   "metadata": {},
   "outputs": [
    {
     "data": {
      "text/plain": [
       "'  Discourse structures are beneficial for various NLP tasks such as dialogue\\nunderstanding, question answering, sentiment analysis, and so on. This paper\\npresents a deep sequential model for parsing discourse dependency structures of\\nmulti-party dialogues. The proposed model aims to construct a discourse\\ndependency tree by predicting dependency relations and constructing the\\ndiscourse structure jointly and alternately. It makes a sequential scan of the\\nElementary Discourse Units (EDUs) in a dialogue. For each EDU, the model\\ndecides to which previous EDU the current one should link and what the\\ncorresponding relation type is. The predicted link and relation type are then\\nused to build the discourse structure incrementally with a structured encoder.\\nDuring link prediction and relation classification, the model utilizes not only\\nlocal information that represents the concerned EDUs, but also global\\ninformation that encodes the EDU sequence and the discourse structure that is\\nalready built at the current step. Experiments show that the proposed model\\noutperforms all the state-of-the-art baselines.\\n'"
      ]
     },
     "execution_count": 10,
     "metadata": {},
     "output_type": "execute_result"
    }
   ],
   "source": [
    "X[0]"
   ]
  },
  {
   "cell_type": "code",
   "execution_count": 11,
   "id": "0c54a85c-9250-4f4f-9613-eced30798431",
   "metadata": {},
   "outputs": [
    {
     "data": {
      "text/plain": [
       "'A Deep Sequential Model for Discourse Parsing on Multi-Party Dialogues'"
      ]
     },
     "execution_count": 11,
     "metadata": {},
     "output_type": "execute_result"
    }
   ],
   "source": [
    "y[0]"
   ]
  },
  {
   "cell_type": "code",
   "execution_count": 12,
   "id": "19420214-828c-4635-a799-374deb7e4f7c",
   "metadata": {},
   "outputs": [],
   "source": [
    "all_words_X = []\n",
    "all_words_y = []\n",
    "data = []"
   ]
  },
  {
   "cell_type": "code",
   "execution_count": 13,
   "id": "09f95eed-98d1-4ad4-aac2-3bb70ab74eb2",
   "metadata": {},
   "outputs": [
    {
     "name": "stderr",
     "output_type": "stream",
     "text": [
      "106it [00:00, 341.74it/s]\n"
     ]
    }
   ],
   "source": [
    "for X_batch,y_batch in tqdm(zip(X,y)):\n",
    "    X_batch = tokenize(X_batch)\n",
    "    y_batch = tokenize(y_batch)\n",
    "    new_X = []\n",
    "    new_y = []\n",
    "    for Xb in X_batch:\n",
    "        new_X.append(stem(Xb))\n",
    "    for yb in y_batch:\n",
    "        new_y.append(stem(yb))\n",
    "    all_words_X.extend(new_X)\n",
    "    all_words_y.extend(new_y)\n",
    "    data.append([new_X,new_y])"
   ]
  },
  {
   "cell_type": "code",
   "execution_count": 14,
   "id": "83be985c-fc7d-4e43-bcc6-ce84f96d800d",
   "metadata": {},
   "outputs": [],
   "source": [
    "X = []\n",
    "y = []"
   ]
  },
  {
   "cell_type": "code",
   "execution_count": 15,
   "id": "b58a0d4f-d1a8-4064-958d-d2dbff889f44",
   "metadata": {},
   "outputs": [],
   "source": [
    "all_words_X = sorted(set(all_words_X))\n",
    "all_words_y = sorted(set(all_words_y))"
   ]
  },
  {
   "cell_type": "code",
   "execution_count": 16,
   "id": "fdcf825c-fb0d-4345-91b6-d38bc04c0eb0",
   "metadata": {},
   "outputs": [
    {
     "name": "stderr",
     "output_type": "stream",
     "text": [
      "100%|████████████████████████████████████████| 106/106 [00:00<00:00, 244.49it/s]\n"
     ]
    }
   ],
   "source": [
    "for Xb,yb in tqdm(data):\n",
    "    X.append(bag_of_words(Xb,all_words_X))\n",
    "    y.append(bag_of_words(yb,all_words_y))"
   ]
  },
  {
   "cell_type": "code",
   "execution_count": 17,
   "id": "c5dcfa0f-ae8c-45ec-8bf9-2164d52ca377",
   "metadata": {},
   "outputs": [],
   "source": [
    "all_words_X = sorted(set(all_words_X))\n",
    "all_words_y = sorted(set(all_words_y))"
   ]
  },
  {
   "cell_type": "code",
   "execution_count": 29,
   "id": "7e239ecb-d49b-4239-8e2d-ce3e9bc519cc",
   "metadata": {},
   "outputs": [],
   "source": [
    "X = torch.from_numpy(np.array(X)).to(device).float()\n",
    "y = torch.from_numpy(np.array(y)).to(device).float()"
   ]
  },
  {
   "cell_type": "code",
   "execution_count": 30,
   "id": "472785b2-7e95-4458-aa81-72b035052bfe",
   "metadata": {},
   "outputs": [],
   "source": [
    "def accuracy(model,X,y):\n",
    "    correct = 0\n",
    "    total = 0\n",
    "    preds = model(X)\n",
    "    for pred,y_batch in zip(preds,y):\n",
    "        if pred == y_batch:\n",
    "            correct += 1\n",
    "        total += 1\n",
    "    acc = round(correct/total,3)*100\n",
    "    return acc"
   ]
  },
  {
   "cell_type": "code",
   "execution_count": 31,
   "id": "8c1f7828-0d55-4737-a902-5d4f971e87fb",
   "metadata": {},
   "outputs": [],
   "source": [
    "class Model(Module):\n",
    "    def __init__(self):\n",
    "        super().__init__()\n",
    "        self.activation = ReLU()\n",
    "        self.iters = 10\n",
    "        self.linear1 = Linear(len(all_words_X),1024)\n",
    "        self.linear2 = Linear(1024,1024)\n",
    "        self.output = Linear(1024,len(all_words_y))\n",
    "    \n",
    "    def forward(self,X):\n",
    "        preds = self.activation(self.linear1(X))\n",
    "        for _ in range(self.iters):\n",
    "            preds = self.activation(self.linear2(preds))\n",
    "        preds = self.output(preds)\n",
    "        return preds"
   ]
  },
  {
   "cell_type": "code",
   "execution_count": null,
   "id": "786cc913-3395-4a71-9689-f5ebd2412ac7",
   "metadata": {},
   "outputs": [],
   "source": [
    "device = 'cuda'"
   ]
  },
  {
   "cell_type": "code",
   "execution_count": null,
   "id": "bb5f84c1-8730-484e-8ddd-bc741b38987a",
   "metadata": {},
   "outputs": [],
   "source": [
    "model = Model().to(device)"
   ]
  },
  {
   "cell_type": "code",
   "execution_count": null,
   "id": "fe3fc04d-5518-4fb8-ad8e-7f8323308090",
   "metadata": {},
   "outputs": [],
   "source": [
    "criterion = MSELoss()"
   ]
  },
  {
   "cell_type": "code",
   "execution_count": null,
   "id": "936b55ac-669a-401c-8442-ab6f4397c09c",
   "metadata": {},
   "outputs": [],
   "source": [
    "optimizer = Adam(model.parameters(),lr=0.001)"
   ]
  },
  {
   "cell_type": "code",
   "execution_count": null,
   "id": "55a39604-c502-494c-9643-aedf91adae3c",
   "metadata": {},
   "outputs": [],
   "source": [
    "epochs = 1000\n",
    "batch_size = 32"
   ]
  },
  {
   "cell_type": "code",
   "execution_count": null,
   "id": "bff3037f-1bb4-43cc-b7c9-a6f9c4c40eef",
   "metadata": {},
   "outputs": [],
   "source": [
    "PROJECT_NAME = 'Arxiv-Papers-Abstract-to-Title'"
   ]
  },
  {
   "cell_type": "code",
   "execution_count": null,
   "id": "5043b733-e2bb-48c9-8a10-b6239415d979",
   "metadata": {},
   "outputs": [],
   "source": [
    "import wandb"
   ]
  },
  {
   "cell_type": "code",
   "execution_count": null,
   "id": "1490ab87-97f4-4625-80ea-e4d3555312e5",
   "metadata": {},
   "outputs": [],
   "source": [
    "wandb.init(project=PROJECT_NAME,name='baseline')\n",
    "for _ in tqdm(range(epochs)):\n",
    "    for idx in range(0,len(X),batch_size):\n",
    "        X_batch = X[idx:idx+batch_size].to(device).float()\n",
    "        y_batch = y[idx:idx+batch_size].to(device).float()\n",
    "        preds = model(X_batch)\n",
    "        loss = criterion(preds,y_batch)\n",
    "        optimizer.zero_grad()\n",
    "        loss.backward()\n",
    "        optimizer.step()\n",
    "    wandb.log({'Loss':loss.item()})\n",
    "    wandb.log({'Accuracy':accuracy(model,X,y)})\n",
    "wandb.finish()"
   ]
  },
  {
   "cell_type": "code",
   "execution_count": null,
   "id": "4595a1a0-0b8e-4884-9ebd-cf10a458df2f",
   "metadata": {},
   "outputs": [],
   "source": []
  }
 ],
 "metadata": {
  "kernelspec": {
   "display_name": "Python 3.7.3 64-bit ('base': conda)",
   "language": "python",
   "name": "python373jvsc74a57bd0210f9608a45c0278a93c9e0b10db32a427986ab48cfc0d20c139811eb78c4bbc"
  },
  "language_info": {
   "codemirror_mode": {
    "name": "ipython",
    "version": 3
   },
   "file_extension": ".py",
   "mimetype": "text/x-python",
   "name": "python",
   "nbconvert_exporter": "python",
   "pygments_lexer": "ipython3",
   "version": "3.7.11"
  }
 },
 "nbformat": 4,
 "nbformat_minor": 5
}
